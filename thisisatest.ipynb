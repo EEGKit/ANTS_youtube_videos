{
  "nbformat": 4,
  "nbformat_minor": 0,
  "metadata": {
    "colab": {
      "private_outputs": true,
      "provenance": [],
      "authorship_tag": "ABX9TyMURYq6V5LlaDJ2DtwXRAbM",
      "include_colab_link": true
    },
    "kernelspec": {
      "name": "python3",
      "display_name": "Python 3"
    },
    "language_info": {
      "name": "python"
    }
  },
  "cells": [
    {
      "cell_type": "markdown",
      "metadata": {
        "id": "view-in-github",
        "colab_type": "text"
      },
      "source": [
        "<a href=\"https://colab.research.google.com/github/mikexcohen/ANTS_youtube_videos/blob/main/thisisatest.ipynb\" target=\"_parent\"><img src=\"https://colab.research.google.com/assets/colab-badge.svg\" alt=\"Open In Colab\"/></a>"
      ]
    },
    {
      "cell_type": "code",
      "execution_count": null,
      "metadata": {
        "id": "ZwrUdIn2IRZZ"
      },
      "outputs": [],
      "source": [
        "print('this is a test')"
      ]
    },
    {
      "cell_type": "code",
      "source": [
        "3*5-2"
      ],
      "metadata": {
        "id": "-HNj0HJjIfnu"
      },
      "execution_count": null,
      "outputs": []
    }
  ]
}