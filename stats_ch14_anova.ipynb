{
  "nbformat": 4,
  "nbformat_minor": 0,
  "metadata": {
    "colab": {
      "private_outputs": true,
      "provenance": [],
      "authorship_tag": "ABX9TyOsOGR/g/aYy5VVXnAOQhx8",
      "include_colab_link": true
    },
    "kernelspec": {
      "name": "python3",
      "display_name": "Python 3"
    },
    "language_info": {
      "name": "python"
    }
  },
  "cells": [
    {
      "cell_type": "markdown",
      "metadata": {
        "id": "view-in-github",
        "colab_type": "text"
      },
      "source": [
        "<a href=\"https://colab.research.google.com/github/mikexcohen/ANTS_youtube_videos/blob/main/stats_ch14_anova.ipynb\" target=\"_parent\"><img src=\"https://colab.research.google.com/assets/colab-badge.svg\" alt=\"Open In Colab\"/></a>"
      ]
    },
    {
      "cell_type": "markdown",
      "source": [
        "# Modern Statistics with Python: Intuition, Math, Code\n",
        "## Mike X Cohen (sincxpress.com)\n",
        "### https://www.amazon.com/etc\n",
        "#### Code for chapter 14"
      ],
      "metadata": {
        "id": "yeVh6hm2ezCO"
      }
    },
    {
      "cell_type": "code",
      "execution_count": null,
      "metadata": {
        "id": "dFT1qwVEyxTW"
      },
      "outputs": [],
      "source": [
        "import numpy as np\n",
        "import scipy.stats as stats\n",
        "import matplotlib.pyplot as plt\n",
        "\n",
        "# The code below define global figure properties used for publication.\n",
        "import matplotlib_inline.backend_inline\n",
        "matplotlib_inline.backend_inline.set_matplotlib_formats('svg') # display figures in vector format\n",
        "plt.rcParams.update({'font.size':14,             # font size\n",
        "                     'savefig.dpi':300,          # output resolution\n",
        "                     'axes.titlelocation':'left',# title location\n",
        "                     'axes.spines.right':False,  # remove axis bounding box\n",
        "                     'axes.spines.top':False,    # remove axis bounding box\n",
        "                     })"
      ]
    },
    {
      "cell_type": "code",
      "source": [],
      "metadata": {
        "id": "De2N0rK820Gg"
      },
      "execution_count": null,
      "outputs": []
    },
    {
      "cell_type": "code",
      "source": [],
      "metadata": {
        "id": "oqvYiRsQ20DH"
      },
      "execution_count": null,
      "outputs": []
    },
    {
      "cell_type": "markdown",
      "source": [
        "# F-distributions"
      ],
      "metadata": {
        "id": "Yp1OAG6T2z9r"
      }
    },
    {
      "cell_type": "code",
      "source": [
        "# Define the x range\n",
        "x = np.linspace(0,3.5,1000)\n",
        "\n",
        "# Define the degrees of freedom pairs\n",
        "df_pairs = [(10,10), (20,10), (10,20), (20,20), (30,30)]\n",
        "\n",
        "\n",
        "\n",
        "plt.figure(figsize=(10,6))\n",
        "for i,(df1,df2) in enumerate(df_pairs):\n",
        "\n",
        "  # F pdf\n",
        "  F = stats.f.pdf(x, df1, df2)\n",
        "\n",
        "  # color\n",
        "  c = i/len(df_pairs)\n",
        "\n",
        "  # plot the distribution\n",
        "  plt.plot(x,F,linewidth=3,color=(c,c,c),label=fr'$df$ = ({df1},{df2})')\n",
        "\n",
        "  # critical F value for p=.05\n",
        "  crit_f_x = stats.f.ppf(.95,df1,df2) # this is the F value\n",
        "  crit_f_y = stats.f.pdf(crit_f_x,df1,df2) # this is the y-axis coordinate (prob density)\n",
        "\n",
        "  \n",
        "  # Add annotation for the critical F value\n",
        "  plt.annotate(text=fr'F$_C$({df1},{df2}) = {crit_f_x:.2f}',color=(c,c,c),xy=(crit_f_x,crit_f_y),rotation=90, \n",
        "                xytext=(crit_f_x,crit_f_y*2),fontsize=16,\n",
        "                arrowprops=dict(color=(c,c,c), arrowstyle='->',linewidth=2), \n",
        "                ha='center', va='bottom')\n",
        "\n",
        "# some niceties\n",
        "plt.title('F-distributions for various df pairs',loc='center')\n",
        "plt.xlabel('F')\n",
        "plt.xlim([0,x[-1]])\n",
        "plt.ylim([0,1.2])\n",
        "plt.ylabel('Probability density')\n",
        "plt.legend()\n",
        "\n",
        "plt.tight_layout()\n",
        "plt.show()"
      ],
      "metadata": {
        "id": "jfPhk0Dt2z24"
      },
      "execution_count": null,
      "outputs": []
    },
    {
      "cell_type": "code",
      "source": [],
      "metadata": {
        "id": "hywwzI8i8HVq"
      },
      "execution_count": null,
      "outputs": []
    },
    {
      "cell_type": "markdown",
      "source": [
        "# Critical F by df's"
      ],
      "metadata": {
        "id": "e2JRHwP12z0B"
      }
    },
    {
      "cell_type": "code",
      "source": [
        "# Define the degrees of freedom\n",
        "df_values = np.arange(1,31)\n",
        "\n",
        "# Create a 2D numpy array to store the critical F values\n",
        "critFvals = np.zeros((len(df_values),len(df_values)))\n",
        "\n",
        "# critical F values for each df pair\n",
        "for i, df1 in enumerate(df_values):\n",
        "  for j, df2 in enumerate(df_values):\n",
        "    critFvals[i,j] = stats.f.ppf(.95, df1, df2)\n",
        "\n",
        "\n",
        "# Plot the matrix as a heatmap\n",
        "plt.figure(figsize=(8,6))\n",
        "plt.imshow(critFvals, origin='lower', cmap='gray', interpolation='nearest',vmin=2,vmax=6)\n",
        "plt.colorbar(label='Critical F Value')\n",
        "plt.xlabel('df1')\n",
        "plt.ylabel('df2')\n",
        "plt.title('Critical F values for df pairs',loc='center')\n",
        "\n",
        "plt.tight_layout()\n",
        "plt.show()"
      ],
      "metadata": {
        "id": "4HCO12te834O"
      },
      "execution_count": null,
      "outputs": []
    },
    {
      "cell_type": "code",
      "source": [],
      "metadata": {
        "id": "L2QzieNn2zw_"
      },
      "execution_count": null,
      "outputs": []
    },
    {
      "cell_type": "code",
      "source": [],
      "metadata": {
        "id": "ygbsHVSw2zuC"
      },
      "execution_count": null,
      "outputs": []
    },
    {
      "cell_type": "code",
      "source": [],
      "metadata": {
        "id": "DdoKmiCy2zq8"
      },
      "execution_count": null,
      "outputs": []
    },
    {
      "cell_type": "code",
      "source": [],
      "metadata": {
        "id": "Zue33Bh92zoC"
      },
      "execution_count": null,
      "outputs": []
    },
    {
      "cell_type": "code",
      "source": [],
      "metadata": {
        "id": "rbHezosB2zks"
      },
      "execution_count": null,
      "outputs": []
    }
  ]
}