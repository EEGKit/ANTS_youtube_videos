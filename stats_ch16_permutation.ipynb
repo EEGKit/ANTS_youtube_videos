{
  "nbformat": 4,
  "nbformat_minor": 0,
  "metadata": {
    "colab": {
      "private_outputs": true,
      "provenance": [],
      "authorship_tag": "ABX9TyMWGrMYcxw4pGsb9eOptS1c",
      "include_colab_link": true
    },
    "kernelspec": {
      "name": "python3",
      "display_name": "Python 3"
    },
    "language_info": {
      "name": "python"
    }
  },
  "cells": [
    {
      "cell_type": "markdown",
      "metadata": {
        "id": "view-in-github",
        "colab_type": "text"
      },
      "source": [
        "<a href=\"https://colab.research.google.com/github/mikexcohen/ANTS_youtube_videos/blob/main/stats_ch16_permutation.ipynb\" target=\"_parent\"><img src=\"https://colab.research.google.com/assets/colab-badge.svg\" alt=\"Open In Colab\"/></a>"
      ]
    },
    {
      "cell_type": "markdown",
      "source": [
        "# Sadistics\n",
        "## Mike X Cohen (sincxpress.com)\n",
        "### https://www.amazon.com/etc\n",
        "#### Code for chapter 16"
      ],
      "metadata": {
        "id": "mzfXc9E3Xq7k"
      }
    },
    {
      "cell_type": "code",
      "source": [
        "import numpy as np\n",
        "import scipy.stats as stats\n",
        "import matplotlib.pyplot as plt\n",
        "\n",
        "\n",
        "# The code below define global figure properties used for publication.\n",
        "import matplotlib_inline.backend_inline\n",
        "matplotlib_inline.backend_inline.set_matplotlib_formats('svg') # display figures in vector format\n",
        "plt.rcParams.update({'font.size':14,             # font size\n",
        "                     'savefig.dpi':300,          # output resolution\n",
        "                     'axes.titlelocation':'left',# title location\n",
        "                     'axes.spines.right':False,  # remove axis bounding box\n",
        "                     'axes.spines.top':False,    # remove axis bounding box\n",
        "                     })"
      ],
      "metadata": {
        "id": "3i9Jx5U-rsrx"
      },
      "execution_count": null,
      "outputs": []
    },
    {
      "cell_type": "code",
      "source": [],
      "metadata": {
        "id": "rNPyhCFurso6"
      },
      "execution_count": null,
      "outputs": []
    },
    {
      "cell_type": "markdown",
      "source": [
        "# Example in t-test"
      ],
      "metadata": {
        "id": "Hdg0zLv1vtaG"
      }
    },
    {
      "cell_type": "code",
      "source": [
        "# number of 'trials' in each condition\n",
        "n1 = 50\n",
        "n2 = 70  # note the trial inbalance!\n",
        "\n",
        "# create data\n",
        "data1 = np.random.randn(n1,1)\n",
        "data2 = np.random.randn(n2,1) + .3  # note the mean offset!\n",
        "\n",
        "# step 1: pool the data\n",
        "alldata = np.concatenate((data1, data2))\n",
        "\n",
        "# corresponding labels\n",
        "truelabels = np.concatenate((np.ones(n1), 2*np.ones(n2)))\n",
        "\n",
        "# compute the observed condition difference\n",
        "true_conddif = np.mean(alldata[truelabels==1]) - np.mean(alldata[truelabels==2])\n",
        "\n",
        "# step 2: shuffle the data once\n",
        "shuflabels = np.random.permutation(truelabels)\n",
        "\n",
        "# step 3: compute the mean difference of the shuffled labels\n",
        "shufconddif = np.mean(alldata[shuflabels==1]) - np.mean(alldata[shuflabels==2])\n",
        "\n",
        "# creating a null-hypothesis (H0) distribution\n",
        "\n",
        "# number of iterations for permutation testing\n",
        "nIterations = 1000\n",
        "\n",
        "permvals = np.zeros(nIterations)\n",
        "\n",
        "for permi in range(nIterations):\n",
        "    # steps 2 and 3 from above\n",
        "    shuflabels = np.random.permutation(truelabels)\n",
        "    permvals[permi] = np.mean(alldata[shuflabels==1]) - np.mean(alldata[shuflabels==2])\n",
        "\n",
        "\n",
        "\n",
        "\n",
        "\n",
        "# visualizations\n",
        "_,axs = plt.subplots(1,3,figsize=(12,4))\n",
        "\n",
        "# show the real data and means\n",
        "axs[0].plot(data1,np.zeros(n1),'ko',markersize=12,markerfacecolor=(.4,.4,.4),alpha=.5)\n",
        "axs[0].plot(data2,np.ones(n2),'ks',markersize=12,markerfacecolor=(.8,.8,.8),alpha=.5)\n",
        "axs[0].plot([np.mean(data1),np.mean(data1)],[.7,1.3],'k--',linewidth=3)\n",
        "axs[0].plot([np.mean(data2),np.mean(data2)],[-.3,.3],'k--',linewidth=3)\n",
        "axs[0].set(ylim=[-1,2],ylabel='Data series',yticks=[0,1],xlabel='Data value')\n",
        "axs[0].set_title(r'$\\bf{A})$  Real data')\n",
        "\n",
        "# show one example shuffled data\n",
        "axs[1].plot(alldata[shuflabels==1],np.zeros(n1),'ko',markersize=12,markerfacecolor=(.4,.4,.4),alpha=.5)\n",
        "axs[1].plot(alldata[shuflabels==2],np.ones(n2),'ks',markersize=12,markerfacecolor=(.8,.8,.8),alpha=.5)\n",
        "axs[1].plot([np.mean(alldata[shuflabels==1]),np.mean(alldata[shuflabels==1])],[.7,1.3],'k--',linewidth=3)\n",
        "axs[1].plot([np.mean(alldata[shuflabels==2]),np.mean(alldata[shuflabels==2])],[-.3,.3],'k--',linewidth=3)\n",
        "axs[1].set(ylim=[-1,2],ylabel='Data series',yticks=[0,1],yticklabels=['\"0\"','\"1\"'],xlabel='Data value')\n",
        "axs[1].set_title(r'$\\bf{B})$  Shuffled data')\n",
        "\n",
        "# distribution of shuffled means\n",
        "axs[2].hist(permvals,bins=40,color=[.7,.7,.7])\n",
        "axs[2].axvline(x=true_conddif,color='k',linestyle='--',linewidth=3)\n",
        "axs[2].legend(['True', 'Shuffled'])\n",
        "axs[2].set(xlim=[-1,1],xlabel='Mean value',ylabel='Count')\n",
        "axs[2].set_title(r'$\\bf{C})$  True and permuted means')\n",
        "\n",
        "plt.tight_layout()\n",
        "plt.savefig('permute_ttestIllustrated.png')\n",
        "plt.show()"
      ],
      "metadata": {
        "id": "us1V2TyprsmD"
      },
      "execution_count": null,
      "outputs": []
    },
    {
      "cell_type": "code",
      "source": [],
      "metadata": {
        "id": "3A8826pzrsjL"
      },
      "execution_count": null,
      "outputs": []
    },
    {
      "cell_type": "code",
      "source": [],
      "metadata": {
        "id": "YDHhEZ5xrsgD"
      },
      "execution_count": null,
      "outputs": []
    },
    {
      "cell_type": "code",
      "source": [],
      "metadata": {
        "id": "NbkuR8YprsdM"
      },
      "execution_count": null,
      "outputs": []
    },
    {
      "cell_type": "code",
      "source": [],
      "metadata": {
        "id": "4VKmdIU8rsaF"
      },
      "execution_count": null,
      "outputs": []
    }
  ]
}